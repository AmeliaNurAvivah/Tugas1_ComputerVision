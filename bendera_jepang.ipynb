{
 "cells": [
  {
   "cell_type": "code",
   "execution_count": 5,
   "id": "0028d741-bb2e-4dc0-9bb7-168bc991dd74",
   "metadata": {},
   "outputs": [],
   "source": [
    "import cv2\n",
    "import numpy as np\n",
    "\n",
    "# Ukuran bendera\n",
    "height, width = 500, 800\n",
    "flag = np.ones((height, width, 3), dtype=np.uint8) * 255  # Latar belakang putih\n",
    "\n",
    "# Lingkaran merah di tengah\n",
    "center = (width // 2, height // 2)  # Titik tengah\n",
    "radius = 150  # Radius lingkaran\n",
    "cv2.circle(flag, center, radius, (0, 0, 255), -1)  # Warna merah dalam BGR\n",
    "\n",
    "# Menampilkan hasil\n",
    "cv2.imshow('bendera jepang', flag)\n",
    "cv2.waitKey(0)\n",
    "cv2.destroyAllWindows()\n"
   ]
  },
  {
   "cell_type": "code",
   "execution_count": null,
   "id": "a13174de-6a90-49d3-ad8f-cbf70f486eb1",
   "metadata": {},
   "outputs": [],
   "source": []
  },
  {
   "cell_type": "code",
   "execution_count": null,
   "id": "bf43c1d3-da40-4848-ba71-645c78adf965",
   "metadata": {},
   "outputs": [],
   "source": []
  }
 ],
 "metadata": {
  "kernelspec": {
   "display_name": "Python 3 (ipykernel)",
   "language": "python",
   "name": "python3"
  },
  "language_info": {
   "codemirror_mode": {
    "name": "ipython",
    "version": 3
   },
   "file_extension": ".py",
   "mimetype": "text/x-python",
   "name": "python",
   "nbconvert_exporter": "python",
   "pygments_lexer": "ipython3",
   "version": "3.10.11"
  }
 },
 "nbformat": 4,
 "nbformat_minor": 5
}
